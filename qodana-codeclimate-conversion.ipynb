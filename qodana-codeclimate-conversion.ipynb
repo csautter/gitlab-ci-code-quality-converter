{
 "cells": [
  {
   "cell_type": "code",
   "execution_count": 1,
   "id": "developmental-million",
   "metadata": {},
   "outputs": [],
   "source": [
    "import pandas as pd\n",
    "import json"
   ]
  },
  {
   "cell_type": "code",
   "execution_count": 2,
   "id": "mounted-devon",
   "metadata": {},
   "outputs": [],
   "source": [
    "with open('data/result-allProblems.json', 'r', encoding=\"cp866\") as json_file:\n",
    "    data=json_file.read()"
   ]
  },
  {
   "cell_type": "code",
   "execution_count": 3,
   "id": "female-pasta",
   "metadata": {},
   "outputs": [],
   "source": [
    "error_list = json.loads(data)['listProblem']"
   ]
  },
  {
   "cell_type": "code",
   "execution_count": 4,
   "id": "advanced-newcastle",
   "metadata": {},
   "outputs": [],
   "source": [
    "#error_list[999]"
   ]
  },
  {
   "cell_type": "raw",
   "id": "complex-firmware",
   "metadata": {},
   "source": [
    "# Code Climate Example\n",
    "# https://github.com/codeclimate/platform/blob/master/spec/analyzers/SPEC.md#contents\n",
    "{\n",
    "  \"type\": \"issue\",\n",
    "  \"check_name\": \"Bug Risk/Unused Variable\",\n",
    "  \"description\": \"Unused local variable `foo`\",\n",
    "  \"content\": Content,\n",
    "  \"categories\": [\"Complexity\"],\n",
    "  \"location\": Location,\n",
    "  \"other_locations\": [Location],\n",
    "  \"severity\": Severity,\n",
    "  \"fingerprint\": \"abcd1234\"\n",
    "}"
   ]
  },
  {
   "cell_type": "raw",
   "id": "difficult-necklace",
   "metadata": {},
   "source": [
    "# Gitlab Example\n",
    "# https://docs.gitlab.com/ee/user/project/merge_requests/code_quality.html#implementing-a-custom-tool\n",
    "[\n",
    "  {\n",
    "    \"description\": \"'unused' is assigned a value but never used.\",\n",
    "    \"fingerprint\": \"7815696ecbf1c96e6894b779456d330e\",\n",
    "    \"severity\": \"minor\",\n",
    "    \"location\": {\n",
    "      \"path\": \"lib/index.js\",\n",
    "      \"lines\": {\n",
    "        \"begin\": 42\n",
    "      }\n",
    "    }\n",
    "  }\n",
    "]"
   ]
  },
  {
   "cell_type": "code",
   "execution_count": 5,
   "id": "hairy-nelson",
   "metadata": {},
   "outputs": [],
   "source": [
    "def map_severity(severity):\n",
    "    severity_map = {\n",
    "        \"Info\": \"info\",\n",
    "        \"DEPRECATION\": \"minor\",\n",
    "        \"Weak Warning\": \"major\",\n",
    "        \"Moderate\": \"major\",\n",
    "        \"Warning\": \"critical\",\n",
    "        \"High\": \"critical\",\n",
    "        \"Error\": \"blocker\",\n",
    "        \"Critical\": \"blocker\",\n",
    "    }\n",
    "    return severity_map[severity]\n",
    "\n",
    "def convert_to_code_climate_style(issue):\n",
    "    return {\n",
    "    \"type\": \"issue\",\n",
    "    \"check_name\": issue['category'] + ': ' + issue['type'],\n",
    "    \"description\": issue['comment'],\n",
    "    \"content\": issue['detailsInfo'], # https://github.com/codeclimate/platform/blob/master/spec/analyzers/SPEC.md#contents\n",
    "    \"categories\": [issue['category']], # https://github.com/codeclimate/platform/blob/master/spec/analyzers/SPEC.md#categories\n",
    "    \"location\": { # https://github.com/codeclimate/platform/blob/master/spec/analyzers/SPEC.md#locations\n",
    "      \"path\": issue['sources'][0]['path'],\n",
    "      \"lines\": {\n",
    "         \"begin\": issue['sources'][0]['line']\n",
    "      },\n",
    "#      \"positions\": {\n",
    "#        \"begin\": {\n",
    "#          \"offset\": issue['sources'][0]['code']['offset'],\n",
    "#        },\n",
    "#        \"end\": {\n",
    "#          \"offset\": issue['sources'][0]['offset']\n",
    "#        }\n",
    "#      }\n",
    "    },\n",
    "    \"severity\": map_severity(issue['severity']), # info, minor, major, critical, blocker (PHPStorm: Info, DEPRECATION, Weak Warning, Warning, Error)\n",
    "#    \"trace\": issue['sources'][0]['code']['surroundingCode']\n",
    "    }"
   ]
  },
  {
   "cell_type": "code",
   "execution_count": 6,
   "id": "important-welcome",
   "metadata": {},
   "outputs": [],
   "source": [
    "cc_issue_list = []"
   ]
  },
  {
   "cell_type": "code",
   "execution_count": 7,
   "id": "cosmetic-deficit",
   "metadata": {},
   "outputs": [],
   "source": [
    "#try:\n",
    "for issue in error_list:\n",
    "    #print(convert_to_code_climate_style(issue))\n",
    "    cc_issue_list.append(convert_to_code_climate_style(issue))\n",
    "#except:\n",
    "#    print(issue)"
   ]
  },
  {
   "cell_type": "code",
   "execution_count": 8,
   "id": "built-washington",
   "metadata": {},
   "outputs": [],
   "source": [
    "#cc_issue_list[-999]"
   ]
  },
  {
   "cell_type": "code",
   "execution_count": 9,
   "id": "formal-paper",
   "metadata": {},
   "outputs": [],
   "source": [
    "with open('data/cc_issue_list.json', 'w') as outfile:\n",
    "    json.dump(cc_issue_list, outfile)"
   ]
  },
  {
   "cell_type": "code",
   "execution_count": null,
   "id": "horizontal-poster",
   "metadata": {},
   "outputs": [],
   "source": []
  }
 ],
 "metadata": {
  "kernelspec": {
   "display_name": "Python 3",
   "language": "python",
   "name": "python3"
  },
  "language_info": {
   "codemirror_mode": {
    "name": "ipython",
    "version": 3
   },
   "file_extension": ".py",
   "mimetype": "text/x-python",
   "name": "python",
   "nbconvert_exporter": "python",
   "pygments_lexer": "ipython3",
   "version": "3.9.0"
  }
 },
 "nbformat": 4,
 "nbformat_minor": 5
}
